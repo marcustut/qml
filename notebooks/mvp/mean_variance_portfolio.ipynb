{
 "cells": [
  {
   "cell_type": "markdown",
   "metadata": {},
   "source": [
    "# Mean Variance Portfolio Optimisation\n",
    "\n",
    "### Introduction "
   ]
  },
  {
   "cell_type": "markdown",
   "metadata": {},
   "source": [
    "### Dataset"
   ]
  },
  {
   "cell_type": "code",
   "execution_count": 1,
   "metadata": {},
   "outputs": [],
   "source": [
    "import polars as pl\n",
    "\n",
    "DATASET_DIR = \"../datasets\"\n",
    "\n",
    "# Add a 'symbol' column to the dataset to identify the symbol after merging the datasets\n",
    "btcusdt = pl.read_csv(f'{DATASET_DIR}/bybit_BTCUSDT_4h.csv').with_columns(symbol=pl.lit(\"BTCUSDT\"))\n",
    "ethusdt = pl.read_csv(f'{DATASET_DIR}/bybit_ETHUSDT_4h.csv').with_columns(symbol=pl.lit(\"ETHUSDT\"))\n",
    "adausdt = pl.read_csv(f'{DATASET_DIR}/bybit_ADAUSDT_4h.csv').with_columns(symbol=pl.lit(\"ADAUSDT\"))\n",
    "maticusdt = pl.read_csv(f'{DATASET_DIR}/bybit_MATICUSDT_4h.csv').with_columns(symbol=pl.lit(\"MATICUSDT\"))\n",
    "\n",
    "dfs = [btcusdt, ethusdt, adausdt, maticusdt]"
   ]
  },
  {
   "cell_type": "code",
   "execution_count": 2,
   "metadata": {},
   "outputs": [],
   "source": [
    "for i in range(len(dfs) - 1):\n",
    "    # Make sure the datasets has the same number of rows\n",
    "    assert(dfs[i]['timestamp'].count() == dfs[i + 1]['timestamp'].count())\n",
    "\n",
    "    # Make sure the datasets has the same start and end time\n",
    "    assert(dfs[i]['timestamp'][0] == dfs[i + 1]['timestamp'][0])\n",
    "    assert(dfs[i]['timestamp'][-1] == dfs[i + 1]['timestamp'][-1])"
   ]
  },
  {
   "cell_type": "code",
   "execution_count": 3,
   "metadata": {},
   "outputs": [
    {
     "name": "stdout",
     "output_type": "stream",
     "text": [
      "The datasets are from 2022-01-01 00:00:00+00:00 to 2024-02-04 20:00:00+00:00 with interval of 240 minute.\n"
     ]
    },
    {
     "data": {
      "text/html": [
       "<div><style>\n",
       ".dataframe > thead > tr,\n",
       ".dataframe > tbody > tr {\n",
       "  text-align: right;\n",
       "  white-space: pre-wrap;\n",
       "}\n",
       "</style>\n",
       "<small>shape: (9, 8)</small><table border=\"1\" class=\"dataframe\"><thead><tr><th>statistic</th><th>timestamp</th><th>open</th><th>high</th><th>low</th><th>close</th><th>volume</th><th>symbol</th></tr><tr><td>str</td><td>f64</td><td>f64</td><td>f64</td><td>f64</td><td>f64</td><td>f64</td><td>str</td></tr></thead><tbody><tr><td>&quot;count&quot;</td><td>18360.0</td><td>18360.0</td><td>18360.0</td><td>18360.0</td><td>18360.0</td><td>18360.0</td><td>&quot;18360&quot;</td></tr><tr><td>&quot;null_count&quot;</td><td>0.0</td><td>0.0</td><td>0.0</td><td>0.0</td><td>0.0</td><td>0.0</td><td>&quot;0&quot;</td></tr><tr><td>&quot;mean&quot;</td><td>1.6740e12</td><td>7772.060085</td><td>7833.128377</td><td>7708.701182</td><td>7771.798649</td><td>752914.260244</td><td>null</td></tr><tr><td>&quot;std&quot;</td><td>1.9081e10</td><td>13122.879805</td><td>13225.559288</td><td>13016.249457</td><td>13122.386146</td><td>1.8064e6</td><td>null</td></tr><tr><td>&quot;min&quot;</td><td>1.6410e12</td><td>0.238</td><td>0.2422</td><td>0.2186</td><td>0.238</td><td>40.265839</td><td>&quot;ADAUSDT&quot;</td></tr><tr><td>&quot;25%&quot;</td><td>1.6575e12</td><td>0.6363</td><td>0.6492</td><td>0.6254</td><td>0.6363</td><td>2290.26365</td><td>null</td></tr><tr><td>&quot;50%&quot;</td><td>1.6740e12</td><td>914.47</td><td>973.94</td><td>880.84</td><td>914.47</td><td>81171.8</td><td>null</td></tr><tr><td>&quot;75%&quot;</td><td>1.6906e12</td><td>3848.87</td><td>3892.53</td><td>3816.27</td><td>3848.87</td><td>820492.57</td><td>null</td></tr><tr><td>&quot;max&quot;</td><td>1.7071e12</td><td>47941.2</td><td>48975.0</td><td>47350.0</td><td>47941.2</td><td>4.5479e7</td><td>&quot;MATICUSDT&quot;</td></tr></tbody></table></div>"
      ],
      "text/plain": [
       "shape: (9, 8)\n",
       "┌────────────┬───────────┬────────────┬────────────┬───────────┬───────────┬───────────┬───────────┐\n",
       "│ statistic  ┆ timestamp ┆ open       ┆ high       ┆ low       ┆ close     ┆ volume    ┆ symbol    │\n",
       "│ ---        ┆ ---       ┆ ---        ┆ ---        ┆ ---       ┆ ---       ┆ ---       ┆ ---       │\n",
       "│ str        ┆ f64       ┆ f64        ┆ f64        ┆ f64       ┆ f64       ┆ f64       ┆ str       │\n",
       "╞════════════╪═══════════╪════════════╪════════════╪═══════════╪═══════════╪═══════════╪═══════════╡\n",
       "│ count      ┆ 18360.0   ┆ 18360.0    ┆ 18360.0    ┆ 18360.0   ┆ 18360.0   ┆ 18360.0   ┆ 18360     │\n",
       "│ null_count ┆ 0.0       ┆ 0.0        ┆ 0.0        ┆ 0.0       ┆ 0.0       ┆ 0.0       ┆ 0         │\n",
       "│ mean       ┆ 1.6740e12 ┆ 7772.06008 ┆ 7833.12837 ┆ 7708.7011 ┆ 7771.7986 ┆ 752914.26 ┆ null      │\n",
       "│            ┆           ┆ 5          ┆ 7          ┆ 82        ┆ 49        ┆ 0244      ┆           │\n",
       "│ std        ┆ 1.9081e10 ┆ 13122.8798 ┆ 13225.5592 ┆ 13016.249 ┆ 13122.386 ┆ 1.8064e6  ┆ null      │\n",
       "│            ┆           ┆ 05         ┆ 88         ┆ 457       ┆ 146       ┆           ┆           │\n",
       "│ min        ┆ 1.6410e12 ┆ 0.238      ┆ 0.2422     ┆ 0.2186    ┆ 0.238     ┆ 40.265839 ┆ ADAUSDT   │\n",
       "│ 25%        ┆ 1.6575e12 ┆ 0.6363     ┆ 0.6492     ┆ 0.6254    ┆ 0.6363    ┆ 2290.2636 ┆ null      │\n",
       "│            ┆           ┆            ┆            ┆           ┆           ┆ 5         ┆           │\n",
       "│ 50%        ┆ 1.6740e12 ┆ 914.47     ┆ 973.94     ┆ 880.84    ┆ 914.47    ┆ 81171.8   ┆ null      │\n",
       "│ 75%        ┆ 1.6906e12 ┆ 3848.87    ┆ 3892.53    ┆ 3816.27   ┆ 3848.87   ┆ 820492.57 ┆ null      │\n",
       "│ max        ┆ 1.7071e12 ┆ 47941.2    ┆ 48975.0    ┆ 47350.0   ┆ 47941.2   ┆ 4.5479e7  ┆ MATICUSDT │\n",
       "└────────────┴───────────┴────────────┴────────────┴───────────┴───────────┴───────────┴───────────┘"
      ]
     },
     "execution_count": 3,
     "metadata": {},
     "output_type": "execute_result"
    }
   ],
   "source": [
    "from datetime import datetime, timezone\n",
    "\n",
    "start = datetime.fromtimestamp(btcusdt['timestamp'][0] / 1000, tz=timezone.utc)\n",
    "end = datetime.fromtimestamp(btcusdt['timestamp'][-1] / 1000, tz=timezone.utc)\n",
    "duration = (btcusdt['timestamp'][1] - btcusdt['timestamp'][0]) // 1000 // 60\n",
    "\n",
    "print(f\"The datasets are from {start} to {end} with interval of {duration} minute.\")\n",
    "\n",
    "df = pl.concat(dfs)\n",
    "df.describe()"
   ]
  },
  {
   "cell_type": "markdown",
   "metadata": {},
   "source": [
    "### Calculation\n",
    "\n",
    "Calculating `returns` and `expected_returns` for each symbol."
   ]
  },
  {
   "cell_type": "code",
   "execution_count": 4,
   "metadata": {},
   "outputs": [
    {
     "data": {
      "text/html": [
       "<div><style>\n",
       ".dataframe > thead > tr,\n",
       ".dataframe > tbody > tr {\n",
       "  text-align: right;\n",
       "  white-space: pre-wrap;\n",
       "}\n",
       "</style>\n",
       "<small>shape: (4, 2)</small><table border=\"1\" class=\"dataframe\"><thead><tr><th>symbol</th><th>returns</th></tr><tr><td>str</td><td>f64</td></tr></thead><tbody><tr><td>&quot;ADAUSDT&quot;</td><td>-0.000277</td></tr><tr><td>&quot;MATICUSDT&quot;</td><td>0.000844</td></tr><tr><td>&quot;ETHUSDT&quot;</td><td>-0.000202</td></tr><tr><td>&quot;BTCUSDT&quot;</td><td>0.000043</td></tr></tbody></table></div>"
      ],
      "text/plain": [
       "shape: (4, 2)\n",
       "┌───────────┬───────────┐\n",
       "│ symbol    ┆ returns   │\n",
       "│ ---       ┆ ---       │\n",
       "│ str       ┆ f64       │\n",
       "╞═══════════╪═══════════╡\n",
       "│ ADAUSDT   ┆ -0.000277 │\n",
       "│ MATICUSDT ┆ 0.000844  │\n",
       "│ ETHUSDT   ┆ -0.000202 │\n",
       "│ BTCUSDT   ┆ 0.000043  │\n",
       "└───────────┴───────────┘"
      ]
     },
     "execution_count": 4,
     "metadata": {},
     "output_type": "execute_result"
    }
   ],
   "source": [
    "# Calculate the returns of each subsequent closing price, note that the \n",
    "# first one will be null since it has no previous price to compare against,\n",
    "# so we fill the null value with mean returns\n",
    "df = df.with_columns(returns=df['close'].pct_change())\n",
    "df = df.with_columns(returns=df['returns'].fill_null(df['returns'].mean())) \n",
    "\n",
    "# Expected returns is the mean of all returns from each symbol.\n",
    "expected_returns = df.group_by('symbol').agg(pl.col('returns').mean())\n",
    "\n",
    "expected_returns"
   ]
  },
  {
   "cell_type": "markdown",
   "metadata": {},
   "source": [
    "### Optimising for portfolio weights\n",
    "\n",
    "Before doing any optimisation, we first need to compute the covariance matrix for returns of all symbols, the covariance matrix will be used later for optmisation."
   ]
  },
  {
   "cell_type": "code",
   "execution_count": 5,
   "metadata": {},
   "outputs": [
    {
     "name": "stderr",
     "output_type": "stream",
     "text": [
      "/var/folders/g6/g_l62tm55tq0dym0qgl0ylwc0000gn/T/ipykernel_55021/1100454105.py:7: FutureWarning: The provided callable <function mean at 0x10b1f6660> is currently using DataFrameGroupBy.mean. In a future version of pandas, the provided callable will be used directly. To keep current behavior pass the string \"mean\" instead.\n",
      "  .pivot_table(index=\"timestamp\", columns=\"symbol\", values=\"returns\", aggfunc=np.mean)\n"
     ]
    },
    {
     "data": {
      "text/html": [
       "<div>\n",
       "<style scoped>\n",
       "    .dataframe tbody tr th:only-of-type {\n",
       "        vertical-align: middle;\n",
       "    }\n",
       "\n",
       "    .dataframe tbody tr th {\n",
       "        vertical-align: top;\n",
       "    }\n",
       "\n",
       "    .dataframe thead th {\n",
       "        text-align: right;\n",
       "    }\n",
       "</style>\n",
       "<table border=\"1\" class=\"dataframe\">\n",
       "  <thead>\n",
       "    <tr style=\"text-align: right;\">\n",
       "      <th>symbol</th>\n",
       "      <th>ADAUSDT</th>\n",
       "      <th>BTCUSDT</th>\n",
       "      <th>ETHUSDT</th>\n",
       "      <th>MATICUSDT</th>\n",
       "    </tr>\n",
       "    <tr>\n",
       "      <th>symbol</th>\n",
       "      <th></th>\n",
       "      <th></th>\n",
       "      <th></th>\n",
       "      <th></th>\n",
       "    </tr>\n",
       "  </thead>\n",
       "  <tbody>\n",
       "    <tr>\n",
       "      <th>ADAUSDT</th>\n",
       "      <td>0.000523</td>\n",
       "      <td>0.000143</td>\n",
       "      <td>0.000386</td>\n",
       "      <td>-0.000642</td>\n",
       "    </tr>\n",
       "    <tr>\n",
       "      <th>BTCUSDT</th>\n",
       "      <td>0.000143</td>\n",
       "      <td>0.000125</td>\n",
       "      <td>0.000139</td>\n",
       "      <td>0.000166</td>\n",
       "    </tr>\n",
       "    <tr>\n",
       "      <th>ETHUSDT</th>\n",
       "      <td>0.000386</td>\n",
       "      <td>0.000139</td>\n",
       "      <td>0.000386</td>\n",
       "      <td>-0.000601</td>\n",
       "    </tr>\n",
       "    <tr>\n",
       "      <th>MATICUSDT</th>\n",
       "      <td>-0.000642</td>\n",
       "      <td>0.000166</td>\n",
       "      <td>-0.000601</td>\n",
       "      <td>0.004157</td>\n",
       "    </tr>\n",
       "  </tbody>\n",
       "</table>\n",
       "</div>"
      ],
      "text/plain": [
       "symbol      ADAUSDT   BTCUSDT   ETHUSDT  MATICUSDT\n",
       "symbol                                            \n",
       "ADAUSDT    0.000523  0.000143  0.000386  -0.000642\n",
       "BTCUSDT    0.000143  0.000125  0.000139   0.000166\n",
       "ETHUSDT    0.000386  0.000139  0.000386  -0.000601\n",
       "MATICUSDT -0.000642  0.000166 -0.000601   0.004157"
      ]
     },
     "execution_count": 5,
     "metadata": {},
     "output_type": "execute_result"
    }
   ],
   "source": [
    "import numpy as np\n",
    "\n",
    "num_symbols = len(df[\"symbol\"].unique())\n",
    "\n",
    "covariance_matrix = (\n",
    "    df.to_pandas()\n",
    "    .pivot_table(index=\"timestamp\", columns=\"symbol\", values=\"returns\", aggfunc=np.mean)\n",
    "    .cov()\n",
    ")\n",
    "\n",
    "covariance_matrix"
   ]
  },
  {
   "cell_type": "markdown",
   "metadata": {},
   "source": [
    "### Mean Variance Optimisation\n",
    "\n",
    "As the name suggests, we define a problem whereby the objective is to minimise the portfolio risk (negative returns) to maximise returns."
   ]
  },
  {
   "cell_type": "code",
   "execution_count": 94,
   "metadata": {},
   "outputs": [
    {
     "data": {
      "image/png": "[encoded data removed]",
      "text/plain": [
       "<Figure size 640x480 with 1 Axes>"
      ]
     },
     "metadata": {},
     "output_type": "display_data"
    }
   ],
   "source": [
    "import cvxpy as cp\n",
    "import matplotlib.pyplot as plt\n",
    "\n",
    "weights = cp.Variable(num_symbols)\n",
    "\n",
    "constraints = [\n",
    "    cp.sum(weights) == 1,\n",
    "    weights >= 0\n",
    "]\n",
    "\n",
    "# NOTE: the @ symbol is for computing the dot product of two matrices\n",
    "portfolio_risk = cp.quad_form(weights @ covariance_matrix.values, np.eye(num_symbols))\n",
    "\n",
    "objective = cp.Minimize(portfolio_risk)\n",
    "problem = cp.Problem(objective, constraints)\n",
    "\n",
    "problem.solve()\n",
    "\n",
    "plt.title(\"Optimal weights according to Mean Variance Optimisation\")\n",
    "plt.pie(weights.value, labels=covariance_matrix.columns.to_list(), autopct='%1.2f%%')\n",
    "plt.show()"
   ]
  }
 ],
 "metadata": {
  "kernelspec": {
   "display_name": "academic",
   "language": "python",
   "name": "python3"
  },
  "language_info": {
   "codemirror_mode": {
    "name": "ipython",
    "version": 3
   },
   "file_extension": ".py",
   "mimetype": "text/x-python",
   "name": "python",
   "nbconvert_exporter": "python",
   "pygments_lexer": "ipython3",
   "version": "3.12.1"
  }
 },
 "nbformat": 4,
 "nbformat_minor": 2
}
