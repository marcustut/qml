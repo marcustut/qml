{
 "cells": [
  {
   "cell_type": "code",
   "execution_count": 2,
   "metadata": {},
   "outputs": [],
   "source": [
    "import polars as pl\n",
    "\n",
    "df = pl.read_csv('../datasets/lab1-modified.csv', ignore_errors=True)"
   ]
  },
  {
   "cell_type": "code",
   "execution_count": 3,
   "metadata": {},
   "outputs": [
    {
     "data": {
      "text/html": [
       "<div><style>\n",
       ".dataframe > thead > tr,\n",
       ".dataframe > tbody > tr {\n",
       "  text-align: right;\n",
       "  white-space: pre-wrap;\n",
       "}\n",
       "</style>\n",
       "<small>shape: (2_111, 17)</small><table border=\"1\" class=\"dataframe\"><thead><tr><th>class</th><th>X2</th><th>X3</th><th>X4</th><th>X5</th><th>X6</th><th>X7</th><th>X8</th><th>X9</th><th>X10</th><th>X11</th><th>X12</th><th>X13</th><th>X14</th><th>X15</th><th>X16</th><th>X17</th></tr><tr><td>str</td><td>f64</td><td>i64</td><td>i64</td><td>str</td><td>str</td><td>str</td><td>str</td><td>str</td><td>str</td><td>str</td><td>str</td><td>str</td><td>str</td><td>str</td><td>str</td><td>str</td></tr></thead><tbody><tr><td>&quot;N&quot;</td><td>64.100473</td><td>3</td><td>1</td><td>&quot;F&quot;</td><td>&quot;2&quot;</td><td>&quot;2&quot;</td><td>&quot;no&quot;</td><td>&quot;P&quot;</td><td>&quot;1.62&quot;</td><td>&quot;no&quot;</td><td>&quot;no&quot;</td><td>&quot;0&quot;</td><td>&quot;no&quot;</td><td>&quot;yes&quot;</td><td>&quot;S&quot;</td><td>&quot;19.59791956370…</td></tr><tr><td>&quot;N&quot;</td><td>56.188924</td><td>3</td><td>0</td><td>&quot;F&quot;</td><td>&quot;3&quot;</td><td>&quot;3&quot;</td><td>&quot;S&quot;</td><td>&quot;P&quot;</td><td>&quot;1.52&quot;</td><td>&quot;yes&quot;</td><td>&quot;yes&quot;</td><td>&quot;3&quot;</td><td>&quot;no&quot;</td><td>&quot;yes&quot;</td><td>&quot;S&quot;</td><td>&quot;21.28165185743…</td></tr><tr><td>&quot;N&quot;</td><td>77.369576</td><td>3</td><td>1</td><td>&quot;M&quot;</td><td>&quot;NA&quot;</td><td>&quot;2&quot;</td><td>&quot;F&quot;</td><td>&quot;P&quot;</td><td>&quot;1.8&quot;</td><td>&quot;no&quot;</td><td>&quot;no&quot;</td><td>&quot;2&quot;</td><td>&quot;no&quot;</td><td>&quot;yes&quot;</td><td>&quot;NA&quot;</td><td>&quot;21.93549750635…</td></tr><tr><td>&quot;1&quot;</td><td>88.560073</td><td>3</td><td>0</td><td>&quot;M&quot;</td><td>&quot;3&quot;</td><td>&quot;2&quot;</td><td>&quot;F&quot;</td><td>&quot;F&quot;</td><td>&quot;1.8&quot;</td><td>&quot;no&quot;</td><td>&quot;no&quot;</td><td>&quot;2&quot;</td><td>&quot;no&quot;</td><td>&quot;no&quot;</td><td>&quot;S&quot;</td><td>&quot;28.64103202445…</td></tr><tr><td>&quot;2&quot;</td><td>90.597823</td><td>1</td><td>0</td><td>&quot;M&quot;</td><td>&quot;2&quot;</td><td>&quot;2&quot;</td><td>&quot;S&quot;</td><td>&quot;P&quot;</td><td>&quot;1.78&quot;</td><td>&quot;no&quot;</td><td>&quot;no&quot;</td><td>&quot;0&quot;</td><td>&quot;no&quot;</td><td>&quot;no&quot;</td><td>&quot;NA&quot;</td><td>&quot;23.42215851156…</td></tr><tr><td>&quot;N&quot;</td><td>52.001263</td><td>3</td><td>0</td><td>&quot;M&quot;</td><td>&quot;2&quot;</td><td>&quot;2&quot;</td><td>&quot;S&quot;</td><td>&quot;V&quot;</td><td>&quot;1.62&quot;</td><td>&quot;no&quot;</td><td>&quot;no&quot;</td><td>&quot;0&quot;</td><td>&quot;yes&quot;</td><td>&quot;no&quot;</td><td>&quot;S&quot;</td><td>&quot;29.83974323831…</td></tr><tr><td>&quot;N&quot;</td><td>54.668143</td><td>3</td><td>0</td><td>&quot;F&quot;</td><td>&quot;3&quot;</td><td>&quot;2&quot;</td><td>&quot;S&quot;</td><td>&quot;V&quot;</td><td>&quot;1.5&quot;</td><td>&quot;no&quot;</td><td>&quot;no&quot;</td><td>&quot;1&quot;</td><td>&quot;yes&quot;</td><td>&quot;yes&quot;</td><td>&quot;S&quot;</td><td>&quot;22.40572661402…</td></tr><tr><td>&quot;N&quot;</td><td>53.585002</td><td>3</td><td>0</td><td>&quot;M&quot;</td><td>&quot;2&quot;</td><td>&quot;2&quot;</td><td>&quot;S&quot;</td><td>&quot;P&quot;</td><td>&quot;1.64&quot;</td><td>&quot;no&quot;</td><td>&quot;no&quot;</td><td>&quot;3&quot;</td><td>&quot;no&quot;</td><td>&quot;no&quot;</td><td>&quot;S&quot;</td><td>&quot;22.73871492240…</td></tr><tr><td>&quot;N&quot;</td><td>64.881769</td><td>3</td><td>1</td><td>&quot;M&quot;</td><td>&quot;3&quot;</td><td>&quot;2&quot;</td><td>&quot;F&quot;</td><td>&quot;P&quot;</td><td>&quot;1.78&quot;</td><td>&quot;no&quot;</td><td>&quot;no&quot;</td><td>&quot;1&quot;</td><td>&quot;yes&quot;</td><td>&quot;yes&quot;</td><td>&quot;S&quot;</td><td>&quot;24.19296807911…</td></tr><tr><td>&quot;N&quot;</td><td>67.670857</td><td>3</td><td>1</td><td>&quot;M&quot;</td><td>&quot;2&quot;</td><td>&quot;NA&quot;</td><td>&quot;no&quot;</td><td>&quot;P&quot;</td><td>&quot;1.72&quot;</td><td>&quot;no&quot;</td><td>&quot;no&quot;</td><td>&quot;1&quot;</td><td>&quot;yes&quot;</td><td>&quot;yes&quot;</td><td>&quot;S&quot;</td><td>&quot;22.78130026063…</td></tr><tr><td>&quot;O1&quot;</td><td>103.627911</td><td>3</td><td>2</td><td>&quot;M&quot;</td><td>&quot;3&quot;</td><td>&quot;3&quot;</td><td>&quot;S&quot;</td><td>&quot;P&quot;</td><td>&quot;1.85&quot;</td><td>&quot;no&quot;</td><td>&quot;no&quot;</td><td>&quot;2&quot;</td><td>&quot;yes&quot;</td><td>&quot;yes&quot;</td><td>&quot;NA&quot;</td><td>&quot;25.57818623325…</td></tr><tr><td>&quot;2&quot;</td><td>80.385882</td><td>3</td><td>1</td><td>&quot;F&quot;</td><td>&quot;2&quot;</td><td>&quot;2&quot;</td><td>&quot;S&quot;</td><td>&quot;P&quot;</td><td>&quot;1.72&quot;</td><td>&quot;no&quot;</td><td>&quot;yes&quot;</td><td>&quot;2&quot;</td><td>&quot;yes&quot;</td><td>&quot;yes&quot;</td><td>&quot;F&quot;</td><td>&quot;NA&quot;</td></tr><tr><td>&hellip;</td><td>&hellip;</td><td>&hellip;</td><td>&hellip;</td><td>&hellip;</td><td>&hellip;</td><td>&hellip;</td><td>&hellip;</td><td>&hellip;</td><td>&hellip;</td><td>&hellip;</td><td>&hellip;</td><td>&hellip;</td><td>&hellip;</td><td>&hellip;</td><td>&hellip;</td><td>&hellip;</td></tr><tr><td>&quot;O3&quot;</td><td>106.802067</td><td>3</td><td>null</td><td>&quot;F&quot;</td><td>&quot;3&quot;</td><td>&quot;1.757105&quot;</td><td>&quot;S&quot;</td><td>&quot;P&quot;</td><td>&quot;1.628855&quot;</td><td>&quot;no&quot;</td><td>&quot;no&quot;</td><td>&quot;0.085119&quot;</td><td>&quot;yes&quot;</td><td>&quot;yes&quot;</td><td>&quot;S&quot;</td><td>&quot;27.01541362340…</td></tr><tr><td>&quot;O3&quot;</td><td>106.593426</td><td>3</td><td>null</td><td>&quot;F&quot;</td><td>&quot;3&quot;</td><td>&quot;2.506631&quot;</td><td>&quot;S&quot;</td><td>&quot;P&quot;</td><td>&quot;1.628205&quot;</td><td>&quot;no&quot;</td><td>&quot;no&quot;</td><td>&quot;0.025787&quot;</td><td>&quot;yes&quot;</td><td>&quot;yes&quot;</td><td>&quot;S&quot;</td><td>&quot;27.72967151228…</td></tr><tr><td>&quot;O3&quot;</td><td>106.409179</td><td>3</td><td>null</td><td>&quot;F&quot;</td><td>&quot;3&quot;</td><td>&quot;2.48707&quot;</td><td>&quot;S&quot;</td><td>&quot;P&quot;</td><td>&quot;NA&quot;</td><td>&quot;no&quot;</td><td>&quot;no&quot;</td><td>&quot;0.067329&quot;</td><td>&quot;yes&quot;</td><td>&quot;yes&quot;</td><td>&quot;S&quot;</td><td>&quot;25.43762995942…</td></tr><tr><td>&quot;O3&quot;</td><td>108.620095</td><td>3</td><td>null</td><td>&quot;F&quot;</td><td>&quot;3&quot;</td><td>&quot;2.320068&quot;</td><td>&quot;S&quot;</td><td>&quot;P&quot;</td><td>&quot;1.627839&quot;</td><td>&quot;no&quot;</td><td>&quot;no&quot;</td><td>&quot;0.045246&quot;</td><td>&quot;yes&quot;</td><td>&quot;yes&quot;</td><td>&quot;S&quot;</td><td>&quot;24.21320898619…</td></tr><tr><td>&quot;O3&quot;</td><td>133.135855</td><td>3</td><td>null</td><td>&quot;F&quot;</td><td>&quot;3&quot;</td><td>&quot;1.650612&quot;</td><td>&quot;S&quot;</td><td>&quot;P&quot;</td><td>&quot;1.724268&quot;</td><td>&quot;no&quot;</td><td>&quot;no&quot;</td><td>&quot;1.537639&quot;</td><td>&quot;yes&quot;</td><td>&quot;yes&quot;</td><td>&quot;S&quot;</td><td>&quot;21.00666179705…</td></tr><tr><td>&quot;O3&quot;</td><td>133.125371</td><td>3</td><td>null</td><td>&quot;F&quot;</td><td>&quot;3&quot;</td><td>&quot;1.610768&quot;</td><td>&quot;S&quot;</td><td>&quot;P&quot;</td><td>&quot;1.732383&quot;</td><td>&quot;no&quot;</td><td>&quot;no&quot;</td><td>&quot;1.510398&quot;</td><td>&quot;yes&quot;</td><td>&quot;yes&quot;</td><td>&quot;S&quot;</td><td>&quot;19.79521769510…</td></tr><tr><td>&quot;O3&quot;</td><td>132.245894</td><td>3</td><td>null</td><td>&quot;F&quot;</td><td>&quot;3&quot;</td><td>&quot;1.796267&quot;</td><td>&quot;S&quot;</td><td>&quot;P&quot;</td><td>&quot;1.72692&quot;</td><td>&quot;no&quot;</td><td>&quot;no&quot;</td><td>&quot;1.728332&quot;</td><td>&quot;yes&quot;</td><td>&quot;yes&quot;</td><td>&quot;S&quot;</td><td>&quot;21.32823433148…</td></tr><tr><td>&quot;O3&quot;</td><td>130.248116</td><td>3</td><td>null</td><td>&quot;F&quot;</td><td>&quot;3&quot;</td><td>&quot;NA&quot;</td><td>&quot;S&quot;</td><td>&quot;P&quot;</td><td>&quot;1.71073&quot;</td><td>&quot;no&quot;</td><td>&quot;NA&quot;</td><td>&quot;1.676269&quot;</td><td>&quot;yes&quot;</td><td>&quot;yes&quot;</td><td>&quot;S&quot;</td><td>&quot;22.09152289029…</td></tr><tr><td>&quot;O3&quot;</td><td>133.515621</td><td>3</td><td>null</td><td>&quot;F&quot;</td><td>&quot;3&quot;</td><td>&quot;2.00513&quot;</td><td>&quot;S&quot;</td><td>&quot;P&quot;</td><td>&quot;1.748584&quot;</td><td>&quot;no&quot;</td><td>&quot;NA&quot;</td><td>&quot;1.34139&quot;</td><td>&quot;yes&quot;</td><td>&quot;yes&quot;</td><td>&quot;S&quot;</td><td>&quot;24.42706890507…</td></tr><tr><td>&quot;O3&quot;</td><td>132.047615</td><td>3</td><td>null</td><td>&quot;F&quot;</td><td>&quot;3&quot;</td><td>&quot;2.054193&quot;</td><td>&quot;S&quot;</td><td>&quot;P&quot;</td><td>&quot;1.752206&quot;</td><td>&quot;no&quot;</td><td>&quot;no&quot;</td><td>&quot;1.414209&quot;</td><td>&quot;yes&quot;</td><td>&quot;yes&quot;</td><td>&quot;S&quot;</td><td>&quot;23.46641314968…</td></tr><tr><td>&quot;O3&quot;</td><td>134.305696</td><td>3</td><td>null</td><td>&quot;F&quot;</td><td>&quot;NA&quot;</td><td>&quot;2.852339&quot;</td><td>&quot;S&quot;</td><td>&quot;P&quot;</td><td>&quot;1.73945&quot;</td><td>&quot;no&quot;</td><td>&quot;no&quot;</td><td>&quot;1.139107&quot;</td><td>&quot;yes&quot;</td><td>&quot;yes&quot;</td><td>&quot;S&quot;</td><td>&quot;22.11940257103…</td></tr><tr><td>&quot;O3&quot;</td><td>133.879327</td><td>3</td><td>null</td><td>&quot;F&quot;</td><td>&quot;3&quot;</td><td>&quot;2.863513&quot;</td><td>&quot;S&quot;</td><td>&quot;P&quot;</td><td>&quot;1.738836&quot;</td><td>&quot;no&quot;</td><td>&quot;no&quot;</td><td>&quot;1.026452&quot;</td><td>&quot;yes&quot;</td><td>&quot;yes&quot;</td><td>&quot;S&quot;</td><td>&quot;22.48920364538…</td></tr></tbody></table></div>"
      ],
      "text/plain": [
       "shape: (2_111, 17)\n",
       "┌───────┬────────────┬─────┬──────┬───┬─────┬─────┬─────┬──────────────────┐\n",
       "│ class ┆ X2         ┆ X3  ┆ X4   ┆ … ┆ X14 ┆ X15 ┆ X16 ┆ X17              │\n",
       "│ ---   ┆ ---        ┆ --- ┆ ---  ┆   ┆ --- ┆ --- ┆ --- ┆ ---              │\n",
       "│ str   ┆ f64        ┆ i64 ┆ i64  ┆   ┆ str ┆ str ┆ str ┆ str              │\n",
       "╞═══════╪════════════╪═════╪══════╪═══╪═════╪═════╪═════╪══════════════════╡\n",
       "│ N     ┆ 64.100473  ┆ 3   ┆ 1    ┆ … ┆ no  ┆ yes ┆ S   ┆ 19.5979195637055 │\n",
       "│ N     ┆ 56.188924  ┆ 3   ┆ 0    ┆ … ┆ no  ┆ yes ┆ S   ┆ 21.2816518574395 │\n",
       "│ N     ┆ 77.369576  ┆ 3   ┆ 1    ┆ … ┆ no  ┆ yes ┆ NA  ┆ 21.9354975063549 │\n",
       "│ 1     ┆ 88.560073  ┆ 3   ┆ 0    ┆ … ┆ no  ┆ no  ┆ S   ┆ 28.6410320244597 │\n",
       "│ 2     ┆ 90.597823  ┆ 1   ┆ 0    ┆ … ┆ no  ┆ no  ┆ NA  ┆ 23.422158511561  │\n",
       "│ …     ┆ …          ┆ …   ┆ …    ┆ … ┆ …   ┆ …   ┆ …   ┆ …                │\n",
       "│ O3    ┆ 130.248116 ┆ 3   ┆ null ┆ … ┆ yes ┆ yes ┆ S   ┆ 22.0915228902917 │\n",
       "│ O3    ┆ 133.515621 ┆ 3   ┆ null ┆ … ┆ yes ┆ yes ┆ S   ┆ 24.4270689050746 │\n",
       "│ O3    ┆ 132.047615 ┆ 3   ┆ null ┆ … ┆ yes ┆ yes ┆ S   ┆ 23.4664131496841 │\n",
       "│ O3    ┆ 134.305696 ┆ 3   ┆ null ┆ … ┆ yes ┆ yes ┆ S   ┆ 22.1194025710353 │\n",
       "│ O3    ┆ 133.879327 ┆ 3   ┆ null ┆ … ┆ yes ┆ yes ┆ S   ┆ 22.4892036453858 │\n",
       "└───────┴────────────┴─────┴──────┴───┴─────┴─────┴─────┴──────────────────┘"
      ]
     },
     "execution_count": 3,
     "metadata": {},
     "output_type": "execute_result"
    }
   ],
   "source": [
    "df"
   ]
  }
 ],
 "metadata": {
  "kernelspec": {
   "display_name": "academic",
   "language": "python",
   "name": "python3"
  },
  "language_info": {
   "codemirror_mode": {
    "name": "ipython",
    "version": 3
   },
   "file_extension": ".py",
   "mimetype": "text/x-python",
   "name": "python",
   "nbconvert_exporter": "python",
   "pygments_lexer": "ipython3",
   "version": "3.12.1"
  }
 },
 "nbformat": 4,
 "nbformat_minor": 2
}
