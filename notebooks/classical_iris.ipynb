{
 "cells": [
  {
   "cell_type": "markdown",
   "metadata": {},
   "source": [
    "# Classical Machine Learning\n",
    "\n",
    "### Introduction\n",
    "\n",
    "This notebook explores the [Iris](https://archive.ics.uci.edu/dataset/53/iris) dataset using classical machine learning methods such as neural networks, k-NN, etc. to perform classification. The purpose of this is to establish a baseline for our attempt at applying quantum machine learning in later stages.\n",
    "\n",
    "### Expectation\n",
    "\n",
    "... We expect high accuracy..."
   ]
  },
  {
   "cell_type": "code",
   "execution_count": 1,
   "metadata": {},
   "outputs": [],
   "source": [
    "# Turn off warnings in Jupyter Notebook\n",
    "import warnings\n",
    "warnings.filterwarnings('ignore')"
   ]
  },
  {
   "cell_type": "markdown",
   "metadata": {},
   "source": [
    "## Dataset\n",
    "\n",
    "The dataset is publicly available and I have prepared a in the `datasets` directory to automate the process of downloading it, take a look at the `README.md` in that directory for further information. \n",
    "\n",
    "### Importing data\n",
    "\n",
    "We use `polars` here instead of the well-known `pandas` library but they are basically interchangeable."
   ]
  },
  {
   "cell_type": "code",
   "execution_count": 2,
   "metadata": {},
   "outputs": [],
   "source": [
    "import polars as pl\n",
    "\n",
    "DATASET_PATH = \"../datasets/iris.csv\"\n",
    "\n",
    "data = pl.read_csv(DATASET_PATH)"
   ]
  },
  {
   "cell_type": "markdown",
   "metadata": {},
   "source": [
    "### Exploratory Data Analysis (EDA)\n",
    "\n",
    "We do some preliminary checks to get a sense of what we are working with."
   ]
  },
  {
   "cell_type": "code",
   "execution_count": 3,
   "metadata": {},
   "outputs": [
    {
     "data": {
      "text/html": [
       "<div><style>\n",
       ".dataframe > thead > tr,\n",
       ".dataframe > tbody > tr {\n",
       "  text-align: right;\n",
       "  white-space: pre-wrap;\n",
       "}\n",
       "</style>\n",
       "<small>shape: (5, 5)</small><table border=\"1\" class=\"dataframe\"><thead><tr><th>sepal_length</th><th>sepal_width</th><th>petal_length</th><th>petal_width</th><th>class</th></tr><tr><td>f64</td><td>f64</td><td>f64</td><td>f64</td><td>str</td></tr></thead><tbody><tr><td>5.1</td><td>3.5</td><td>1.4</td><td>0.2</td><td>&quot;Iris-setosa&quot;</td></tr><tr><td>4.9</td><td>3.0</td><td>1.4</td><td>0.2</td><td>&quot;Iris-setosa&quot;</td></tr><tr><td>4.7</td><td>3.2</td><td>1.3</td><td>0.2</td><td>&quot;Iris-setosa&quot;</td></tr><tr><td>4.6</td><td>3.1</td><td>1.5</td><td>0.2</td><td>&quot;Iris-setosa&quot;</td></tr><tr><td>5.0</td><td>3.6</td><td>1.4</td><td>0.2</td><td>&quot;Iris-setosa&quot;</td></tr></tbody></table></div>"
      ],
      "text/plain": [
       "shape: (5, 5)\n",
       "┌──────────────┬─────────────┬──────────────┬─────────────┬─────────────┐\n",
       "│ sepal_length ┆ sepal_width ┆ petal_length ┆ petal_width ┆ class       │\n",
       "│ ---          ┆ ---         ┆ ---          ┆ ---         ┆ ---         │\n",
       "│ f64          ┆ f64         ┆ f64          ┆ f64         ┆ str         │\n",
       "╞══════════════╪═════════════╪══════════════╪═════════════╪═════════════╡\n",
       "│ 5.1          ┆ 3.5         ┆ 1.4          ┆ 0.2         ┆ Iris-setosa │\n",
       "│ 4.9          ┆ 3.0         ┆ 1.4          ┆ 0.2         ┆ Iris-setosa │\n",
       "│ 4.7          ┆ 3.2         ┆ 1.3          ┆ 0.2         ┆ Iris-setosa │\n",
       "│ 4.6          ┆ 3.1         ┆ 1.5          ┆ 0.2         ┆ Iris-setosa │\n",
       "│ 5.0          ┆ 3.6         ┆ 1.4          ┆ 0.2         ┆ Iris-setosa │\n",
       "└──────────────┴─────────────┴──────────────┴─────────────┴─────────────┘"
      ]
     },
     "execution_count": 3,
     "metadata": {},
     "output_type": "execute_result"
    }
   ],
   "source": [
    "data.head()"
   ]
  },
  {
   "cell_type": "code",
   "execution_count": 4,
   "metadata": {},
   "outputs": [
    {
     "data": {
      "text/html": [
       "<div><style>\n",
       ".dataframe > thead > tr,\n",
       ".dataframe > tbody > tr {\n",
       "  text-align: right;\n",
       "  white-space: pre-wrap;\n",
       "}\n",
       "</style>\n",
       "<small>shape: (9, 6)</small><table border=\"1\" class=\"dataframe\"><thead><tr><th>statistic</th><th>sepal_length</th><th>sepal_width</th><th>petal_length</th><th>petal_width</th><th>class</th></tr><tr><td>str</td><td>f64</td><td>f64</td><td>f64</td><td>f64</td><td>str</td></tr></thead><tbody><tr><td>&quot;count&quot;</td><td>150.0</td><td>150.0</td><td>150.0</td><td>150.0</td><td>&quot;150&quot;</td></tr><tr><td>&quot;null_count&quot;</td><td>0.0</td><td>0.0</td><td>0.0</td><td>0.0</td><td>&quot;0&quot;</td></tr><tr><td>&quot;mean&quot;</td><td>5.843333</td><td>3.054</td><td>3.758667</td><td>1.198667</td><td>null</td></tr><tr><td>&quot;std&quot;</td><td>0.828066</td><td>0.433594</td><td>1.76442</td><td>0.763161</td><td>null</td></tr><tr><td>&quot;min&quot;</td><td>4.3</td><td>2.0</td><td>1.0</td><td>0.1</td><td>&quot;Iris-setosa&quot;</td></tr><tr><td>&quot;25%&quot;</td><td>5.1</td><td>2.8</td><td>1.6</td><td>0.3</td><td>null</td></tr><tr><td>&quot;50%&quot;</td><td>5.8</td><td>3.0</td><td>4.4</td><td>1.3</td><td>null</td></tr><tr><td>&quot;75%&quot;</td><td>6.4</td><td>3.3</td><td>5.1</td><td>1.8</td><td>null</td></tr><tr><td>&quot;max&quot;</td><td>7.9</td><td>4.4</td><td>6.9</td><td>2.5</td><td>&quot;Iris-virginica…</td></tr></tbody></table></div>"
      ],
      "text/plain": [
       "shape: (9, 6)\n",
       "┌────────────┬──────────────┬─────────────┬──────────────┬─────────────┬────────────────┐\n",
       "│ statistic  ┆ sepal_length ┆ sepal_width ┆ petal_length ┆ petal_width ┆ class          │\n",
       "│ ---        ┆ ---          ┆ ---         ┆ ---          ┆ ---         ┆ ---            │\n",
       "│ str        ┆ f64          ┆ f64         ┆ f64          ┆ f64         ┆ str            │\n",
       "╞════════════╪══════════════╪═════════════╪══════════════╪═════════════╪════════════════╡\n",
       "│ count      ┆ 150.0        ┆ 150.0       ┆ 150.0        ┆ 150.0       ┆ 150            │\n",
       "│ null_count ┆ 0.0          ┆ 0.0         ┆ 0.0          ┆ 0.0         ┆ 0              │\n",
       "│ mean       ┆ 5.843333     ┆ 3.054       ┆ 3.758667     ┆ 1.198667    ┆ null           │\n",
       "│ std        ┆ 0.828066     ┆ 0.433594    ┆ 1.76442      ┆ 0.763161    ┆ null           │\n",
       "│ min        ┆ 4.3          ┆ 2.0         ┆ 1.0          ┆ 0.1         ┆ Iris-setosa    │\n",
       "│ 25%        ┆ 5.1          ┆ 2.8         ┆ 1.6          ┆ 0.3         ┆ null           │\n",
       "│ 50%        ┆ 5.8          ┆ 3.0         ┆ 4.4          ┆ 1.3         ┆ null           │\n",
       "│ 75%        ┆ 6.4          ┆ 3.3         ┆ 5.1          ┆ 1.8         ┆ null           │\n",
       "│ max        ┆ 7.9          ┆ 4.4         ┆ 6.9          ┆ 2.5         ┆ Iris-virginica │\n",
       "└────────────┴──────────────┴─────────────┴──────────────┴─────────────┴────────────────┘"
      ]
     },
     "execution_count": 4,
     "metadata": {},
     "output_type": "execute_result"
    }
   ],
   "source": [
    "data.describe()"
   ]
  },
  {
   "cell_type": "markdown",
   "metadata": {},
   "source": [
    "As can be seen from the output above, there are **4 input features** and **1 class label** with a total of 150 rows, a very small dataset so it should be very easy to train. Fortunately, there are no missing values in the dataset hence we can use it as is.\n"
   ]
  },
  {
   "cell_type": "code",
   "execution_count": 5,
   "metadata": {},
   "outputs": [
    {
     "data": {
      "text/html": [
       "<div><style>\n",
       ".dataframe > thead > tr,\n",
       ".dataframe > tbody > tr {\n",
       "  text-align: right;\n",
       "  white-space: pre-wrap;\n",
       "}\n",
       "</style>\n",
       "<small>shape: (3, 2)</small><table border=\"1\" class=\"dataframe\"><thead><tr><th>class</th><th>count</th></tr><tr><td>str</td><td>u32</td></tr></thead><tbody><tr><td>&quot;Iris-virginica…</td><td>50</td></tr><tr><td>&quot;Iris-versicolo…</td><td>50</td></tr><tr><td>&quot;Iris-setosa&quot;</td><td>50</td></tr></tbody></table></div>"
      ],
      "text/plain": [
       "shape: (3, 2)\n",
       "┌─────────────────┬───────┐\n",
       "│ class           ┆ count │\n",
       "│ ---             ┆ ---   │\n",
       "│ str             ┆ u32   │\n",
       "╞═════════════════╪═══════╡\n",
       "│ Iris-virginica  ┆ 50    │\n",
       "│ Iris-versicolor ┆ 50    │\n",
       "│ Iris-setosa     ┆ 50    │\n",
       "└─────────────────┴───────┘"
      ]
     },
     "execution_count": 5,
     "metadata": {},
     "output_type": "execute_result"
    }
   ],
   "source": [
    "data.group_by([\"class\"]).count()"
   ]
  },
  {
   "cell_type": "markdown",
   "metadata": {},
   "source": [
    "## Pre-processing\n",
    "\n",
    "- Features are so small that we don't need to do feature selection\n",
    "- Train test split / train-validate-test split\n",
    "- Do we need Sampling?"
   ]
  },
  {
   "cell_type": "markdown",
   "metadata": {},
   "source": [
    "## Ensemble\n",
    "\n",
    "- Put all those models together\n",
    "\n",
    "- cross fold validation?"
   ]
  },
  {
   "cell_type": "markdown",
   "metadata": {},
   "source": []
  }
 ],
 "metadata": {
  "kernelspec": {
   "display_name": "academic",
   "language": "python",
   "name": "python3"
  },
  "language_info": {
   "codemirror_mode": {
    "name": "ipython",
    "version": 3
   },
   "file_extension": ".py",
   "mimetype": "text/x-python",
   "name": "python",
   "nbconvert_exporter": "python",
   "pygments_lexer": "ipython3",
   "version": "3.12.1"
  }
 },
 "nbformat": 4,
 "nbformat_minor": 2
}
