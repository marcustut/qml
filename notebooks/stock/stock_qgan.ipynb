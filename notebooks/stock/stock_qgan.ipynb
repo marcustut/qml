{
 "cells": [
  {
   "cell_type": "code",
   "execution_count": 1,
   "metadata": {},
   "outputs": [],
   "source": [
    "import time\n",
    "import math\n",
    "import torch \n",
    "import numpy as np\n",
    "import polars as pl\n",
    "import matplotlib.pyplot as plt\n",
    "from azure.quantum import Workspace\n",
    "from azure.quantum.qiskit import AzureQuantumProvider\n",
    "from torch import nn, optim\n",
    "from torch.utils.data import Dataset as TorchDataset, DataLoader\n",
    "from qml.dataset import StockGANDataset\n",
    "from datetime import datetime, timezone\n",
    "from sklearn.model_selection import train_test_split\n",
    "from sklearn.preprocessing import MinMaxScaler\n",
    "from sklearn.metrics import mean_squared_error, r2_score\n",
    "from sklearn.decomposition import PCA\n",
    "from qiskit import QuantumCircuit\n",
    "from qiskit_aer import AerProvider\n",
    "from qiskit_aer.noise import NoiseModel\n",
    "from qiskit.primitives import BackendEstimator\n",
    "from qiskit.circuit.library import EfficientSU2, ZZFeatureMap\n",
    "from qiskit_machine_learning.connectors import TorchConnector\n",
    "from qiskit_machine_learning.neural_networks import EstimatorQNN\n",
    "from qiskit_machine_learning.circuit.library import QNNCircuit\n",
    "from qiskit_algorithms.utils import algorithm_globals\n",
    "from qiskit_ibm_runtime import QiskitRuntimeService\n",
    "from IPython.display import clear_output"
   ]
  },
  {
   "cell_type": "code",
   "execution_count": 2,
   "metadata": {},
   "outputs": [],
   "source": [
    "aer_provider = AerProvider()\n",
    "azure_provider = AzureQuantumProvider(\n",
    "    Workspace(\n",
    "        resource_id=\"/subscriptions/422cf85a-5643-4ef0-bafa-2809a5aa27e0/resourceGroups/qml/providers/Microsoft.Quantum/Workspaces/stockqgan\", \n",
    "        location=\"eastus\"\n",
    "    )\n",
    ")\n",
    "ibm_service = QiskitRuntimeService(channel=\"ibm_quantum\", token=\"ac6000c560e92b674e0ebbaa683a55dceabb7aa1017e57b5c2f2ce865bebb29e719a8b90180a5d335b0e0fa0698e43ba35c0b76e89bd5dab1fba6cd657c65f71\")\n",
    "\n",
    "# Create Aer simulator backend\n",
    "aer_backend = aer_provider.get_backend(\"qasm_simulator\")\n",
    "\n",
    "# Create Rigetti simulator and QPU backends\n",
    "rigetti_simulator_backend = azure_provider.get_backend(\"rigetti.sim.qvm\")\n",
    "rigetti_qpu_backend = azure_provider.get_backend(\"rigetti.qpu.ankaa-2\")\n",
    "\n",
    "# Create an IBM backend\n",
    "ibm_backend = ibm_service.least_busy(operational=True, simulator=False)\n",
    "\n",
    "# Get the noise model from an actual quantum machine\n",
    "noise_model = NoiseModel.from_backend(ibm_backend)\n",
    "\n",
    "backend = rigetti_simulator_backend"
   ]
  },
  {
   "cell_type": "code",
   "execution_count": 3,
   "metadata": {},
   "outputs": [],
   "source": [
    "algorithm_globals.random_seed = 1337\n",
    "_ = torch.manual_seed(1337)"
   ]
  },
  {
   "cell_type": "code",
   "execution_count": 4,
   "metadata": {},
   "outputs": [],
   "source": [
    "DATASET_DIR = \"../../datasets\"\n",
    "OUTPUT_DIR = \"qvm_sim_pca_4\"\n",
    "\n",
    "TICKERS = [\n",
    "    \"AAPL\", # Apple\n",
    "    \"AMD\",  # Advanced Micro Devices\n",
    "    \"AMZN\", # Amazon\n",
    "    \"COST\", # Costco\n",
    "    \"GOOG\", # Google\n",
    "    \"INTC\", # Intel\n",
    "    \"META\", # Meta (Facebook)\n",
    "    \"NFLX\", # Netflix\n",
    "    \"NVDA\", # Nvidia\n",
    "    \"TSM\",  # TSMC\n",
    "    \"YM=F\", # Dow Jones Index\n",
    "    \"^NDX\", # Nasdaq Index\n",
    "    \"^SPX\", # Standard & Poor 500 Index\n",
    "    \"TSLA\", # Tesla\n",
    "]\n",
    "TARGET = \"AAPL\""
   ]
  },
  {
   "cell_type": "code",
   "execution_count": 5,
   "metadata": {},
   "outputs": [],
   "source": [
    "# Download the stock prices, note that some parameters here does not matter since we will be pre-processing our data with a custom class later\n",
    "dataset = StockGANDataset(\n",
    "    tickers=TICKERS,\n",
    "    target_ticker=TARGET,\n",
    "    start=datetime(year=2023, month=1, day=1, tzinfo=timezone.utc),\n",
    "    end=datetime(year=2024, month=1, day=1, tzinfo=timezone.utc),\n",
    "    interval=\"1d\",\n",
    "    sliding_window=1,          # does not matter \n",
    "    train_test_pct=(0.8, 0.2), # does not matter\n",
    "    root=DATASET_DIR\n",
    ")"
   ]
  },
  {
   "cell_type": "code",
   "execution_count": 6,
   "metadata": {},
   "outputs": [
    {
     "data": {
      "text/html": [
       "<div><style>\n",
       ".dataframe > thead > tr,\n",
       ".dataframe > tbody > tr {\n",
       "  text-align: right;\n",
       "  white-space: pre-wrap;\n",
       "}\n",
       "</style>\n",
       "<small>shape: (250, 15)</small><table border=\"1\" class=\"dataframe\"><thead><tr><th>timestamp</th><th>AAPL</th><th>AMD</th><th>AMZN</th><th>COST</th><th>GOOG</th><th>INTC</th><th>META</th><th>NFLX</th><th>NVDA</th><th>TSM</th><th>YM=F</th><th>^NDX</th><th>^SPX</th><th>TSLA</th></tr><tr><td>datetime[ns, America/New_York]</td><td>f64</td><td>f64</td><td>f64</td><td>f64</td><td>f64</td><td>f64</td><td>f64</td><td>f64</td><td>f64</td><td>f64</td><td>f64</td><td>f64</td><td>f64</td><td>f64</td></tr></thead><tbody><tr><td>2023-01-03 00:00:00 EST</td><td>124.216293</td><td>64.019997</td><td>85.82</td><td>439.224792</td><td>89.699997</td><td>26.044006</td><td>124.607788</td><td>294.950012</td><td>143.079773</td><td>72.324837</td><td>33278.0</td><td>10862.639648</td><td>3824.139893</td><td>108.099998</td></tr><tr><td>2023-01-04 00:00:00 EST</td><td>125.497498</td><td>64.660004</td><td>85.139999</td><td>442.403076</td><td>88.709999</td><td>26.969629</td><td>127.235008</td><td>309.410004</td><td>147.417679</td><td>74.562096</td><td>33416.0</td><td>10914.799805</td><td>3852.969971</td><td>113.639999</td></tr><tr><td>2023-01-05 00:00:00 EST</td><td>124.166649</td><td>62.330002</td><td>83.120003</td><td>436.23056</td><td>86.769997</td><td>26.852707</td><td>126.805458</td><td>309.700012</td><td>142.580048</td><td>73.985687</td><td>33070.0</td><td>10741.219727</td><td>3808.100098</td><td>110.339996</td></tr><tr><td>2023-01-06 00:00:00 EST</td><td>128.735245</td><td>63.959999</td><td>86.080002</td><td>467.897278</td><td>88.160004</td><td>27.992682</td><td>129.882202</td><td>315.549988</td><td>148.517136</td><td>76.271782</td><td>33772.0</td><td>11040.349609</td><td>3895.080078</td><td>113.059998</td></tr><tr><td>2023-01-09 00:00:00 EST</td><td>129.261627</td><td>67.239998</td><td>87.360001</td><td>463.905029</td><td>88.800003</td><td>28.557795</td><td>129.332779</td><td>315.170013</td><td>156.203354</td><td>78.460182</td><td>33670.0</td><td>11108.450195</td><td>3892.090088</td><td>119.769997</td></tr><tr><td>2023-01-10 00:00:00 EST</td><td>129.837677</td><td>68.050003</td><td>89.870003</td><td>466.472839</td><td>89.239998</td><td>28.68446</td><td>132.849045</td><td>327.540009</td><td>159.011963</td><td>79.398071</td><td>33849.0</td><td>11205.780273</td><td>3919.25</td><td>118.849998</td></tr><tr><td>2023-01-11 00:00:00 EST</td><td>132.578842</td><td>69.059998</td><td>95.089996</td><td>469.292603</td><td>92.260002</td><td>29.083939</td><td>132.749146</td><td>327.26001</td><td>159.931519</td><td>79.896324</td><td>34110.0</td><td>11402.519531</td><td>3969.610107</td><td>123.220001</td></tr><tr><td>2023-01-12 00:00:00 EST</td><td>132.499374</td><td>70.800003</td><td>95.269997</td><td>467.470886</td><td>91.910004</td><td>29.512648</td><td>136.565109</td><td>330.130005</td><td>165.029037</td><td>84.996094</td><td>34319.0</td><td>11459.610352</td><td>3983.169922</td><td>123.559998</td></tr><tr><td>2023-01-13 00:00:00 EST</td><td>133.840134</td><td>71.0</td><td>98.120003</td><td>470.203461</td><td>92.800003</td><td>29.337267</td><td>136.834808</td><td>332.820007</td><td>168.907135</td><td>84.800697</td><td>34416.0</td><td>11541.480469</td><td>3999.090088</td><td>122.400002</td></tr><tr><td>2023-01-17 00:00:00 EST</td><td>135.012115</td><td>71.589996</td><td>96.050003</td><td>471.6763</td><td>92.160004</td><td>28.840353</td><td>135.216537</td><td>326.220001</td><td>176.933197</td><td>86.940262</td><td>34020.0</td><td>11557.19043</td><td>3990.969971</td><td>131.490005</td></tr><tr><td>2023-01-18 00:00:00 EST</td><td>134.287094</td><td>70.529999</td><td>95.459999</td><td>464.602722</td><td>91.779999</td><td>28.070627</td><td>132.879013</td><td>326.329987</td><td>173.684799</td><td>87.409195</td><td>33386.0</td><td>11410.290039</td><td>3928.860107</td><td>128.779999</td></tr><tr><td>2023-01-19 00:00:00 EST</td><td>134.346695</td><td>67.709999</td><td>93.68</td><td>454.932129</td><td>93.910004</td><td>27.690638</td><td>136.005692</td><td>315.779999</td><td>167.56778</td><td>86.363853</td><td>33139.0</td><td>11295.669922</td><td>3898.850098</td><td>127.169998</td></tr><tr><td>&hellip;</td><td>&hellip;</td><td>&hellip;</td><td>&hellip;</td><td>&hellip;</td><td>&hellip;</td><td>&hellip;</td><td>&hellip;</td><td>&hellip;</td><td>&hellip;</td><td>&hellip;</td><td>&hellip;</td><td>&hellip;</td><td>&hellip;</td><td>&hellip;</td></tr><tr><td>2023-12-13 00:00:00 EST</td><td>197.707718</td><td>138.190002</td><td>148.839996</td><td>626.803833</td><td>133.970001</td><td>44.439739</td><td>334.385193</td><td>479.980011</td><td>480.857452</td><td>101.229919</td><td>37111.0</td><td>16562.369141</td><td>4707.089844</td><td>239.289993</td></tr><tr><td>2023-12-14 00:00:00 EST</td><td>197.857529</td><td>138.0</td><td>147.419998</td><td>615.849487</td><td>133.199997</td><td>45.047958</td><td>332.816895</td><td>469.829987</td><td>483.477325</td><td>103.031601</td><td>37265.0</td><td>16537.830078</td><td>4719.549805</td><td>251.050003</td></tr><tr><td>2023-12-15 00:00:00 EST</td><td>197.318222</td><td>139.149994</td><td>149.970001</td><td>643.225769</td><td>133.839996</td><td>46.025093</td><td>334.565033</td><td>472.059998</td><td>488.877075</td><td>102.12529</td><td>36996.449219</td><td>16623.449219</td><td>4719.189941</td><td>253.5</td></tr><tr><td>2023-12-18 00:00:00 EST</td><td>195.64035</td><td>138.899994</td><td>154.070007</td><td>665.115051</td><td>137.190002</td><td>45.556465</td><td>344.25473</td><td>486.119995</td><td>500.74649</td><td>102.51371</td><td>37678.0</td><td>16729.800781</td><td>4740.560059</td><td>252.080002</td></tr><tr><td>2023-12-19 00:00:00 EST</td><td>196.689026</td><td>140.149994</td><td>153.789993</td><td>661.697876</td><td>138.100006</td><td>46.523632</td><td>349.988647</td><td>495.019989</td><td>496.016754</td><td>103.449913</td><td>37931.0</td><td>16811.849609</td><td>4768.370117</td><td>257.220001</td></tr><tr><td>2023-12-20 00:00:00 EST</td><td>194.581711</td><td>135.470001</td><td>152.119995</td><td>645.354187</td><td>139.660004</td><td>45.626259</td><td>348.90979</td><td>489.269989</td><td>481.087402</td><td>99.635399</td><td>37445.0</td><td>16554.160156</td><td>4698.350098</td><td>247.139999</td></tr><tr><td>2023-12-21 00:00:00 EST</td><td>194.431885</td><td>139.910004</td><td>153.839996</td><td>649.415649</td><td>141.800003</td><td>46.942406</td><td>353.714691</td><td>491.609985</td><td>489.877014</td><td>102.135246</td><td>37756.0</td><td>16757.410156</td><td>4746.75</td><td>254.5</td></tr><tr><td>2023-12-22 00:00:00 EST</td><td>193.353287</td><td>139.600006</td><td>153.419998</td><td>655.703186</td><td>142.720001</td><td>47.859715</td><td>353.015472</td><td>486.76001</td><td>488.277069</td><td>102.732819</td><td>37740.0</td><td>16777.400391</td><td>4754.629883</td><td>252.539993</td></tr><tr><td>2023-12-26 00:00:00 EST</td><td>192.803986</td><td>143.410004</td><td>153.410004</td><td>658.651733</td><td>142.820007</td><td>50.352409</td><td>354.453918</td><td>491.190002</td><td>492.766907</td><td>104.027557</td><td>37894.0</td><td>16878.460938</td><td>4774.75</td><td>256.609985</td></tr><tr><td>2023-12-27 00:00:00 EST</td><td>192.903839</td><td>146.070007</td><td>153.339996</td><td>665.821228</td><td>141.440002</td><td>50.611649</td><td>357.450714</td><td>491.790009</td><td>494.14682</td><td>104.226753</td><td>38006.0</td><td>16906.800781</td><td>4781.580078</td><td>261.440002</td></tr><tr><td>2023-12-28 00:00:00 EST</td><td>193.333298</td><td>148.759995</td><td>153.380005</td><td>662.126648</td><td>141.279999</td><td>50.242729</td><td>357.940216</td><td>490.51001</td><td>495.196777</td><td>104.27655</td><td>38029.0</td><td>16898.470703</td><td>4783.350098</td><td>253.179993</td></tr><tr><td>2023-12-29 00:00:00 EST</td><td>192.284637</td><td>147.410004</td><td>151.940002</td><td>659.111084</td><td>140.929993</td><td>50.103138</td><td>353.584839</td><td>486.880005</td><td>495.196777</td><td>103.579384</td><td>38012.0</td><td>16825.929688</td><td>4769.830078</td><td>248.479996</td></tr></tbody></table></div>"
      ],
      "text/plain": [
       "shape: (250, 15)\n",
       "┌────────────┬───────────┬───────────┬───────────┬───┬─────────┬───────────┬───────────┬───────────┐\n",
       "│ timestamp  ┆ AAPL      ┆ AMD       ┆ AMZN      ┆ … ┆ YM=F    ┆ ^NDX      ┆ ^SPX      ┆ TSLA      │\n",
       "│ ---        ┆ ---       ┆ ---       ┆ ---       ┆   ┆ ---     ┆ ---       ┆ ---       ┆ ---       │\n",
       "│ datetime[n ┆ f64       ┆ f64       ┆ f64       ┆   ┆ f64     ┆ f64       ┆ f64       ┆ f64       │\n",
       "│ s, America ┆           ┆           ┆           ┆   ┆         ┆           ┆           ┆           │\n",
       "│ /New_York] ┆           ┆           ┆           ┆   ┆         ┆           ┆           ┆           │\n",
       "╞════════════╪═══════════╪═══════════╪═══════════╪═══╪═════════╪═══════════╪═══════════╪═══════════╡\n",
       "│ 2023-01-03 ┆ 124.21629 ┆ 64.019997 ┆ 85.82     ┆ … ┆ 33278.0 ┆ 10862.639 ┆ 3824.1398 ┆ 108.09999 │\n",
       "│ 00:00:00   ┆ 3         ┆           ┆           ┆   ┆         ┆ 648       ┆ 93        ┆ 8         │\n",
       "│ EST        ┆           ┆           ┆           ┆   ┆         ┆           ┆           ┆           │\n",
       "│ 2023-01-04 ┆ 125.49749 ┆ 64.660004 ┆ 85.139999 ┆ … ┆ 33416.0 ┆ 10914.799 ┆ 3852.9699 ┆ 113.63999 │\n",
       "│ 00:00:00   ┆ 8         ┆           ┆           ┆   ┆         ┆ 805       ┆ 71        ┆ 9         │\n",
       "│ EST        ┆           ┆           ┆           ┆   ┆         ┆           ┆           ┆           │\n",
       "│ 2023-01-05 ┆ 124.16664 ┆ 62.330002 ┆ 83.120003 ┆ … ┆ 33070.0 ┆ 10741.219 ┆ 3808.1000 ┆ 110.33999 │\n",
       "│ 00:00:00   ┆ 9         ┆           ┆           ┆   ┆         ┆ 727       ┆ 98        ┆ 6         │\n",
       "│ EST        ┆           ┆           ┆           ┆   ┆         ┆           ┆           ┆           │\n",
       "│ 2023-01-06 ┆ 128.73524 ┆ 63.959999 ┆ 86.080002 ┆ … ┆ 33772.0 ┆ 11040.349 ┆ 3895.0800 ┆ 113.05999 │\n",
       "│ 00:00:00   ┆ 5         ┆           ┆           ┆   ┆         ┆ 609       ┆ 78        ┆ 8         │\n",
       "│ EST        ┆           ┆           ┆           ┆   ┆         ┆           ┆           ┆           │\n",
       "│ 2023-01-09 ┆ 129.26162 ┆ 67.239998 ┆ 87.360001 ┆ … ┆ 33670.0 ┆ 11108.450 ┆ 3892.0900 ┆ 119.76999 │\n",
       "│ 00:00:00   ┆ 7         ┆           ┆           ┆   ┆         ┆ 195       ┆ 88        ┆ 7         │\n",
       "│ EST        ┆           ┆           ┆           ┆   ┆         ┆           ┆           ┆           │\n",
       "│ …          ┆ …         ┆ …         ┆ …         ┆ … ┆ …       ┆ …         ┆ …         ┆ …         │\n",
       "│ 2023-12-22 ┆ 193.35328 ┆ 139.60000 ┆ 153.41999 ┆ … ┆ 37740.0 ┆ 16777.400 ┆ 4754.6298 ┆ 252.53999 │\n",
       "│ 00:00:00   ┆ 7         ┆ 6         ┆ 8         ┆   ┆         ┆ 391       ┆ 83        ┆ 3         │\n",
       "│ EST        ┆           ┆           ┆           ┆   ┆         ┆           ┆           ┆           │\n",
       "│ 2023-12-26 ┆ 192.80398 ┆ 143.41000 ┆ 153.41000 ┆ … ┆ 37894.0 ┆ 16878.460 ┆ 4774.75   ┆ 256.60998 │\n",
       "│ 00:00:00   ┆ 6         ┆ 4         ┆ 4         ┆   ┆         ┆ 938       ┆           ┆ 5         │\n",
       "│ EST        ┆           ┆           ┆           ┆   ┆         ┆           ┆           ┆           │\n",
       "│ 2023-12-27 ┆ 192.90383 ┆ 146.07000 ┆ 153.33999 ┆ … ┆ 38006.0 ┆ 16906.800 ┆ 4781.5800 ┆ 261.44000 │\n",
       "│ 00:00:00   ┆ 9         ┆ 7         ┆ 6         ┆   ┆         ┆ 781       ┆ 78        ┆ 2         │\n",
       "│ EST        ┆           ┆           ┆           ┆   ┆         ┆           ┆           ┆           │\n",
       "│ 2023-12-28 ┆ 193.33329 ┆ 148.75999 ┆ 153.38000 ┆ … ┆ 38029.0 ┆ 16898.470 ┆ 4783.3500 ┆ 253.17999 │\n",
       "│ 00:00:00   ┆ 8         ┆ 5         ┆ 5         ┆   ┆         ┆ 703       ┆ 98        ┆ 3         │\n",
       "│ EST        ┆           ┆           ┆           ┆   ┆         ┆           ┆           ┆           │\n",
       "│ 2023-12-29 ┆ 192.28463 ┆ 147.41000 ┆ 151.94000 ┆ … ┆ 38012.0 ┆ 16825.929 ┆ 4769.8300 ┆ 248.47999 │\n",
       "│ 00:00:00   ┆ 7         ┆ 4         ┆ 2         ┆   ┆         ┆ 688       ┆ 78        ┆ 6         │\n",
       "│ EST        ┆           ┆           ┆           ┆   ┆         ┆           ┆           ┆           │\n",
       "└────────────┴───────────┴───────────┴───────────┴───┴─────────┴───────────┴───────────┴───────────┘"
      ]
     },
     "execution_count": 6,
     "metadata": {},
     "output_type": "execute_result"
    }
   ],
   "source": [
    "dataset.data"
   ]
  },
  {
   "cell_type": "code",
   "execution_count": 7,
   "metadata": {},
   "outputs": [],
   "source": [
    "class Dataset(TorchDataset):\n",
    "    def __init__(self, data: pl.DataFrame):\n",
    "        self.in_scaler = MinMaxScaler(feature_range=(0, 1))\n",
    "        self.out_scaler = MinMaxScaler(feature_range=(0, 1))\n",
    "\n",
    "        train_data, test_data = train_test_split(\n",
    "            dataset.data.drop(\"timestamp\").to_numpy(), \n",
    "            train_size=0.8, \n",
    "            shuffle=False, # must not shuffle timeseries data\n",
    "        )\n",
    "        self.train_x, self.train_y = (\n",
    "            torch.from_numpy(self.in_scaler.fit_transform(PCA(n_components=4).fit_transform(train_data))).float(), \n",
    "            torch.from_numpy(self.out_scaler.fit_transform(train_data.T[0].reshape(-1, 1))).float(),\n",
    "        )\n",
    "        self.test_x, self.test_y = (\n",
    "            torch.from_numpy(self.in_scaler.fit_transform(PCA(n_components=4).fit_transform(test_data))).float(),\n",
    "            torch.from_numpy(self.out_scaler.fit_transform(test_data.T[0].reshape(-1, 1))).float(),\n",
    "        )\n",
    "\n",
    "    def __len__(self):\n",
    "        return self.train_x.shape[0]\n",
    "\n",
    "    def __getitem__(self, index: int) -> tuple[torch.Tensor, torch.Tensor]:\n",
    "        return self.train_x[index], self.train_y[index]\n",
    "\n",
    "dataset = Dataset(data=dataset.data)"
   ]
  },
  {
   "cell_type": "code",
   "execution_count": 8,
   "metadata": {},
   "outputs": [],
   "source": [
    "num_features = dataset.train_x.shape[1]"
   ]
  },
  {
   "cell_type": "code",
   "execution_count": 9,
   "metadata": {},
   "outputs": [
    {
     "data": {
      "image/png": "[encoded data removed]",
      "text/plain": [
       "<Figure size 2210.55x785.944 with 1 Axes>"
      ]
     },
     "execution_count": 9,
     "metadata": {},
     "output_type": "execute_result"
    }
   ],
   "source": [
    "feature_map = ZZFeatureMap(feature_dimension=num_features, reps=1)\n",
    "feature_map.decompose().draw('mpl')"
   ]
  },
  {
   "cell_type": "code",
   "execution_count": 10,
   "metadata": {},
   "outputs": [
    {
     "data": {
      "image/png": "[encoded data removed]",
      "text/plain": [
       "<Figure size 705.552x367.889 with 1 Axes>"
      ]
     },
     "execution_count": 10,
     "metadata": {},
     "output_type": "execute_result"
    }
   ],
   "source": [
    "ansatz = EfficientSU2(num_qubits=num_features, reps=1)\n",
    "ansatz.decompose().draw('mpl')"
   ]
  },
  {
   "cell_type": "code",
   "execution_count": 11,
   "metadata": {},
   "outputs": [],
   "source": [
    "qc = QNNCircuit(feature_map=feature_map, ansatz=ansatz)"
   ]
  },
  {
   "cell_type": "code",
   "execution_count": 12,
   "metadata": {},
   "outputs": [],
   "source": [
    "shots = 10000\n",
    "estimator = BackendEstimator(\n",
    "    backend=backend,\n",
    "    options={\n",
    "        \"shots\": shots, \n",
    "        \"seed\": algorithm_globals.random_seed,\n",
    "        \"noise_model\": noise_model,\n",
    "    } if backend == aer_backend else {\"shots\": shots}\n",
    ")\n",
    "\n",
    "def create_generator() -> nn.Module:\n",
    "    qnn = EstimatorQNN(\n",
    "        circuit=qc,\n",
    "        estimator=estimator,\n",
    "        input_params=qc.input_parameters,\n",
    "        weight_params=qc.weight_parameters,\n",
    "    )\n",
    "    initial_weights = algorithm_globals.random.random(qc.num_weight_parameters)\n",
    "    return TorchConnector(qnn, initial_weights)\n",
    "\n",
    "class Discriminator(nn.Module):\n",
    "    def __init__(self, input_size: int):\n",
    "        super().__init__()\n",
    "        self.conv1 = nn.Conv1d(input_size, 32, kernel_size=3, stride=1, padding='same')\n",
    "        self.conv2 = nn.Conv1d(32, 64, kernel_size=3, stride=1, padding='same')\n",
    "        self.conv3 = nn.Conv1d(64, 128, kernel_size=3, stride=1, padding='same')\n",
    "        self.linear1 = nn.Linear(128, 220)\n",
    "        self.batch1 = nn.BatchNorm1d(220)\n",
    "        self.linear2 = nn.Linear(220, 220)\n",
    "        self.batch2 = nn.BatchNorm1d(220)\n",
    "        self.linear3 = nn.Linear(220, 1)\n",
    "        self.leaky = nn.LeakyReLU(0.01)\n",
    "        self.relu = nn.ReLU()\n",
    "        self.sigmoid = nn.Sigmoid()\n",
    "\n",
    "    def forward(self, x: torch.Tensor):\n",
    "        conv1 = self.conv1(x)\n",
    "        conv1 = self.leaky(conv1)\n",
    "        conv2 = self.conv2(conv1)\n",
    "        conv2 = self.leaky(conv2)\n",
    "        conv3 = self.conv3(conv2)\n",
    "        conv3: Tensor = self.leaky(conv3)\n",
    "        flatten_x = conv3.reshape(conv3.shape[0], conv3.shape[1])\n",
    "        out_1 = self.linear1(flatten_x)\n",
    "        out_1 = self.leaky(out_1)\n",
    "        out_2 = self.linear2(out_1)\n",
    "        out_2 = self.relu(out_2)\n",
    "        out_3 = self.linear3(out_2)\n",
    "        out = self.sigmoid(out_3)\n",
    "        return out"
   ]
  },
  {
   "cell_type": "code",
   "execution_count": 13,
   "metadata": {},
   "outputs": [],
   "source": [
    "def plot_training_progress(generator_loss_values, discriminator_loss_values):\n",
    "    if len(generator_loss_values) < 2:\n",
    "        return\n",
    "\n",
    "    clear_output(wait=True)\n",
    "    fig, (ax1, ax2) = plt.subplots(1, 2, figsize=(18, 9))\n",
    "\n",
    "    # Generator Loss\n",
    "    ax1.set_title(\"Loss\")\n",
    "    ax1.plot(generator_loss_values, label=\"generator loss\", color=\"royalblue\")\n",
    "    ax1.plot(discriminator_loss_values, label=\"discriminator loss\", color=\"magenta\")\n",
    "    ax1.legend()\n",
    "    ax1.set_xlabel(\"Iteration\")\n",
    "    ax1.set_ylabel(\"Loss\")\n",
    "    ax1.grid()\n",
    "    \n",
    "    plt.show()"
   ]
  },
  {
   "cell_type": "code",
   "execution_count": null,
   "metadata": {},
   "outputs": [
    {
     "name": "stdout",
     "output_type": "stream",
     "text": [
      "in epoch 0\n",
      "in batch 0\n",
      "2024-04-24 22:08:59.763004: generating fake data\n",
      "..................................................................................................................................................................................................................................................................................................................................................................................................................................................................................................................................................2024-04-24 22:34:40.912378: discriminating true labels\n",
      "2024-04-24 22:34:40.986095: discriminating false labels\n",
      "2024-04-24 22:34:40.996257: backpropagating discriminator\n"
     ]
    },
    {
     "name": "stderr",
     "output_type": "stream",
     "text": [
      "WARNING:azure.identity._internal.decorators:EnvironmentCredential.get_token failed: EnvironmentCredential authentication unavailable. Environment variables are not fully configured.\n",
      "Visit https://aka.ms/azsdk/python/identity/environmentcredential/troubleshoot to troubleshoot this issue.\n",
      "WARNING:azure.identity._internal.get_token_mixin:VisualStudioCodeCredential.get_token failed: Failed to get Azure user details from Visual Studio Code. Currently, the VisualStudioCodeCredential only works with the Azure Account extension version 0.9.11 and earlier. A long-term fix is in progress, see https://github.com/Azure/azure-sdk-for-python/issues/25713\n",
      "WARNING:azure.identity._internal.decorators:VSCodeCredential.get_token failed: Failed to get Azure user details from Visual Studio Code. Currently, the VisualStudioCodeCredential only works with the Azure Account extension version 0.9.11 and earlier. A long-term fix is in progress, see https://github.com/Azure/azure-sdk-for-python/issues/25713\n",
      "WARNING:azure.identity._internal.decorators:AzureCliCredential.get_token failed: Azure CLI not found on path\n",
      "WARNING:azure.identity._internal.decorators:AzurePowerShellCredential.get_token failed: PowerShell is not installed\n",
      "WARNING:azure.identity._internal.decorators:EnvironmentCredential.get_token failed: EnvironmentCredential authentication unavailable. Environment variables are not fully configured.\n",
      "Visit https://aka.ms/azsdk/python/identity/environmentcredential/troubleshoot to troubleshoot this issue.\n",
      "WARNING:azure.identity._internal.get_token_mixin:VisualStudioCodeCredential.get_token failed: Failed to get Azure user details from Visual Studio Code. Currently, the VisualStudioCodeCredential only works with the Azure Account extension version 0.9.11 and earlier. A long-term fix is in progress, see https://github.com/Azure/azure-sdk-for-python/issues/25713\n",
      "WARNING:azure.identity._internal.decorators:VSCodeCredential.get_token failed: Failed to get Azure user details from Visual Studio Code. Currently, the VisualStudioCodeCredential only works with the Azure Account extension version 0.9.11 and earlier. A long-term fix is in progress, see https://github.com/Azure/azure-sdk-for-python/issues/25713\n",
      "WARNING:azure.identity._internal.decorators:AzureCliCredential.get_token failed: Azure CLI not found on path\n",
      "WARNING:azure.identity._internal.decorators:AzurePowerShellCredential.get_token failed: PowerShell is not installed\n",
      "WARNING:azure.identity._internal.decorators:EnvironmentCredential.get_token failed: EnvironmentCredential authentication unavailable. Environment variables are not fully configured.\n",
      "Visit https://aka.ms/azsdk/python/identity/environmentcredential/troubleshoot to troubleshoot this issue.\n",
      "WARNING:azure.identity._internal.get_token_mixin:VisualStudioCodeCredential.get_token failed: Failed to get Azure user details from Visual Studio Code. Currently, the VisualStudioCodeCredential only works with the Azure Account extension version 0.9.11 and earlier. A long-term fix is in progress, see https://github.com/Azure/azure-sdk-for-python/issues/25713\n",
      "WARNING:azure.identity._internal.decorators:VSCodeCredential.get_token failed: Failed to get Azure user details from Visual Studio Code. Currently, the VisualStudioCodeCredential only works with the Azure Account extension version 0.9.11 and earlier. A long-term fix is in progress, see https://github.com/Azure/azure-sdk-for-python/issues/25713\n",
      "WARNING:azure.identity._internal.decorators:AzureCliCredential.get_token failed: Azure CLI not found on path\n",
      "WARNING:azure.identity._internal.decorators:AzurePowerShellCredential.get_token failed: PowerShell is not installed\n"
     ]
    }
   ],
   "source": [
    "EPOCHS = 10\n",
    "LEARNING_RATE = 0.01\n",
    "BETAS = (0.0, 0.9)\n",
    "BATCH_SIZE = 125\n",
    "\n",
    "device = torch.device(\"cpu\")\n",
    "\n",
    "generator, discriminator = create_generator(), Discriminator(1)\n",
    "\n",
    "loss = nn.BCELoss()\n",
    "g_optim, d_optim = (\n",
    "    optim.Adam(generator.parameters(), lr=LEARNING_RATE, betas=BETAS),\n",
    "    optim.Adam(discriminator.parameters(), lr=LEARNING_RATE, betas=BETAS)\n",
    ")\n",
    "\n",
    "dataloader = DataLoader(dataset=dataset, batch_size=BATCH_SIZE)\n",
    "\n",
    "g_losses, d_losses = [], []\n",
    "\n",
    "start = time.time()\n",
    "\n",
    "for epoch in range(EPOCHS):\n",
    "    epoch_start = time.time()\n",
    "    g_local_losses, d_local_losses = [], []\n",
    "\n",
    "    print(f\"in epoch {epoch}\")\n",
    "\n",
    "    # Get next batch of data from the dataloder\n",
    "    for i, (x, y) in enumerate(dataloader):\n",
    "        print(f\"in batch {i}\")\n",
    "        x = x.to(device)\n",
    "        y = y.to(device)\n",
    "\n",
    "        # Generate fake data\n",
    "        print(f\"{datetime.now()}: generating fake data\")\n",
    "        fake_data = generator(x)\n",
    "\n",
    "        # Train the discriminator to understand true labels\n",
    "        print(f\"{datetime.now()}: discriminating true labels\")\n",
    "        d_real_output = discriminator(y.unsqueeze(1))\n",
    "        real_labels = torch.ones_like(d_real_output).to(device)\n",
    "        d_loss_real = loss(d_real_output, real_labels)\n",
    "\n",
    "        # Train the discriminator to understand false label\n",
    "        print(f\"{datetime.now()}: discriminating false labels\")\n",
    "        d_fake_output = discriminator(fake_data.unsqueeze(1))\n",
    "        fake_labels = torch.zeros_like(real_labels).to(device)\n",
    "        d_loss_fake = loss(d_fake_output, fake_labels)\n",
    "\n",
    "        # Optimise the discriminator loss\n",
    "        d_loss = (d_loss_real + d_loss_fake)\n",
    "        discriminator.zero_grad()\n",
    "        print(f\"{datetime.now()}: backpropagating discriminator\")\n",
    "        d_loss.backward(retain_graph=True)\n",
    "        d_optim.step()\n",
    "        d_local_losses.append(d_loss.item())\n",
    "\n",
    "        # Optimise the generator loss\n",
    "        print(f\"{datetime.now()}: discriminating false labels\")\n",
    "        d_fake_output = discriminator(fake_data.unsqueeze(1))\n",
    "        g_loss = loss(d_fake_output, real_labels)\n",
    "        generator.zero_grad()\n",
    "        print(f\"{datetime.now()}: backpropagating generator\")\n",
    "        g_loss.backward()\n",
    "        g_optim.step()\n",
    "        g_local_losses.append(g_loss.item()) \n",
    "\n",
    "    g_losses.append(sum(g_local_losses))\n",
    "    d_losses.append(sum(d_local_losses))\n",
    "\n",
    "    plot_training_progress(g_losses, d_losses)\n",
    "    epoch_elapsed = time.time() - epoch_start\n",
    "    print(f\"Epoch {epoch + 1} took {epoch_elapsed:.2f} seconds: g_loss={sum(g_local_losses):.2f} d_loss={sum(d_local_losses):.2f}\")\n",
    "\n",
    "elapsed = time.time() - start\n",
    "print(f\"Trained in {elapsed:0.2f} seconds\")\n",
    "\n",
    "torch.save(generator.state_dict(), f\"{OUTPUT_DIR}/stock_qgan_generator\")\n",
    "torch.save(discriminator.state_dict(), f\"{OUTPUT_DIR}/stock_qgan_discriminator\")"
   ]
  },
  {
   "cell_type": "code",
   "execution_count": null,
   "metadata": {},
   "outputs": [],
   "source": [
    "plt.plot(g_losses, label='Generator')\n",
    "plt.plot(d_losses, label='Discriminator', color='orange')\n",
    "plt.title('GAN Loss')\n",
    "plt.xlabel('Days')\n",
    "plt.legend(loc='center left')"
   ]
  },
  {
   "cell_type": "code",
   "execution_count": null,
   "metadata": {},
   "outputs": [],
   "source": [
    "generator.eval()\n",
    "pred_y_train: torch.Tensor = generator(dataset.train_x)\n",
    "pred_y_test: torch.Tensor = generator(dataset.test_x)\n",
    "\n",
    "y_train_true = dataset.out_scaler.inverse_transform(dataset.train_y.reshape(-1, 1))\n",
    "y_train_pred = dataset.out_scaler.inverse_transform(pred_y_train.cpu().detach().numpy())\n",
    "\n",
    "y_test_true = dataset.out_scaler.inverse_transform(dataset.test_y.reshape(-1, 1))\n",
    "y_test_pred = dataset.out_scaler.inverse_transform(pred_y_test.cpu().detach().numpy())"
   ]
  },
  {
   "cell_type": "code",
   "execution_count": null,
   "metadata": {},
   "outputs": [],
   "source": [
    "plt.figure(figsize=(12, 8))\n",
    "plt.plot(y_train_true, color = 'black', label = 'Actual Price')\n",
    "plt.plot(y_train_pred, color = 'blue', label = 'Predict Price')\n",
    "plt.title('GAN prediction training dataset')\n",
    "plt.ylabel('Price')\n",
    "plt.xlabel('Days')\n",
    "plt.legend(loc = 'upper right')\n",
    "\n",
    "MSE = mean_squared_error(y_train_true, y_train_pred)\n",
    "RMSE = math.sqrt(MSE)\n",
    "R2 = r2_score(y_train_true, y_train_pred)\n",
    "print(f'Training dataset\\nRMSE: {RMSE}\\nR2: {R2}')"
   ]
  },
  {
   "cell_type": "code",
   "execution_count": null,
   "metadata": {},
   "outputs": [],
   "source": [
    "plt.figure(figsize=(12, 8))\n",
    "plt.plot(y_test_true, color = 'black', label = 'Actual Price')\n",
    "plt.plot(y_test_pred, color = 'blue', label = 'Predict Price')\n",
    "plt.title('GAN prediction test dataset')\n",
    "plt.ylabel('Price')\n",
    "plt.xlabel('Days')\n",
    "plt.legend(loc = 'upper right')\n",
    "\n",
    "MSE = mean_squared_error(y_test_true, y_test_pred)\n",
    "RMSE = math.sqrt(MSE)\n",
    "R2 = r2_score(y_test_true, y_test_pred)\n",
    "print(f'Test dataset\\nRMSE: {RMSE}\\nR2: {R2}')"
   ]
  },
  {
   "cell_type": "code",
   "execution_count": null,
   "metadata": {},
   "outputs": [],
   "source": [
    "np.savetxt(f\"{OUTPUT_DIR}/stock_qgan_g_losses.txt\", g_losses, delimiter=',')\n",
    "np.savetxt(f\"{OUTPUT_DIR}/stock_qgan_d_losses.txt\", d_losses, delimiter=',')\n",
    "np.savetxt(f\"{OUTPUT_DIR}/stock_qgan_y_train_true.txt\", y_train_true, delimiter=',')\n",
    "np.savetxt(f\"{OUTPUT_DIR}/stock_qgan_y_train_pred.txt\", y_train_pred, delimiter=',')\n",
    "np.savetxt(f\"{OUTPUT_DIR}/stock_qgan_y_test_true.txt\", y_test_true, delimiter=',')\n",
    "np.savetxt(f\"{OUTPUT_DIR}/stock_qgan_y_test_pred.txt\", y_test_pred, delimiter=',')"
   ]
  }
 ],
 "metadata": {
  "kernelspec": {
   "display_name": "Python 3 (ipykernel)",
   "language": "python",
   "name": "python3"
  },
  "language_info": {
   "codemirror_mode": {
    "name": "ipython",
    "version": 3
   },
   "file_extension": ".py",
   "mimetype": "text/x-python",
   "name": "python",
   "nbconvert_exporter": "python",
   "pygments_lexer": "ipython3",
   "version": "3.12.1"
  }
 },
 "nbformat": 4,
 "nbformat_minor": 4
}
