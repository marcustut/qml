{
 "cells": [
  {
   "cell_type": "markdown",
   "metadata": {},
   "source": [
    "# Black Scholes Model\n",
    "\n",
    "The goal of a pricing model is to predict the price of a particular asset taking different parameters into consideration. In this notebook, we are going to implement the Black-Scholes-Merton model which is one of the widely used methods for pricing options. The parameters that it takes into consideration are:\n",
    "\n",
    "- Underlying Price (S)\n",
    "- Strike Price (X)\n",
    "- Time to Expiration (T)\n",
    "- Risk Free Rate (r)\n",
    "- Volatility($\\sigma$)\n",
    "\n",
    "> Strike Price is sometimes also called as Exercise Price, for more information on what it is see [this](https://www.investopedia.com/terms/s/strikeprice.asp)\n",
    "\n",
    "This notebook focuses on the European option, to understand what it is and how it is different from the American option see [this](https://www.investopedia.com/terms/e/europeanoption.asp)."
   ]
  },
  {
   "cell_type": "markdown",
   "metadata": {},
   "source": [
    "## Background\n",
    "\n",
    "The mathematical formulas are laid out as follows to give a brief overview of the model as for a more in-depth explanation check [this fantastic video](https://www.youtube.com/watch?v=pr-u4LCFYEY) by Khan Academy. \n",
    "\n",
    "European Call option:\n",
    "\n",
    "$$\n",
    "\\begin{align*}\n",
    "    C = S N(d_1) - Xe^{-rT} N(d_2)\n",
    "\\end{align*}\n",
    "$$\n",
    "\n",
    "European Put option:\n",
    "\n",
    "$$\n",
    "\\begin{align*}\n",
    "    P = Xe^{-rT} N(-d_2) - S N(-d_1) \n",
    "\\end{align*}\n",
    "$$\n",
    "\n",
    "where\n",
    "\n",
    "- Call Option Price, $C$\n",
    "- Put Option Price, $P$\n",
    "- Underlying Price, $S$\n",
    "- Strike Price, $X$\n",
    "- Risk Free Rate, $r$\n",
    "- Time to expiration in years, $T$\n",
    "- Probability of $d_1$, $N(d_1)$\n",
    "- Probability of $d_2$, $N(d_2)$\n",
    "\n",
    "The formula for $d_1$:\n",
    "\n",
    "$$\n",
    "\\begin{align*}\n",
    "    d_1 = \\frac{\\ln \\frac{S}{X} + \\left(r + \\frac{\\sigma^2}{2} \\right) T}{\\sigma \\sqrt T} \n",
    "\\end{align*}\n",
    "$$\n",
    "\n",
    "Note that $\\sigma$ here refers to the volatility of the underlying asset.\n",
    "\n",
    "The formula for $d_2$:\n",
    "\n",
    "$$\n",
    "\\begin{align*}\n",
    "    d_2 &= \\frac{\\ln \\frac{S}{X} + \\left(r - \\frac{\\sigma^2}{2} \\right) T}{\\sigma \\sqrt T} \\\\\n",
    "        &= d_1 - \\sigma \\sqrt T\n",
    "\\end{align*}\n",
    "$$\n",
    "\n",
    "As can be seen, the formulas for $d_1$ and $d_2$ are very similar hence by doing some simplification $d_2$ is also equivalent to $d_1 - \\sigma \\sqrt T$."
   ]
  },
  {
   "cell_type": "markdown",
   "metadata": {},
   "source": [
    "## Set up\n",
    "\n",
    "Here we define the parameters as python variables but a better way to do this is to put the entire model into a class and later we can dynamically get these parameters either from a local CSV file or fetch them from a remote datasource."
   ]
  },
  {
   "cell_type": "code",
   "execution_count": 1,
   "metadata": {},
   "outputs": [],
   "source": [
    "S = 42     # Underlying Price\n",
    "X = 40     # Strike Price\n",
    "T = 0.5    # Time to expiration (6 months)\n",
    "r = 0.1    # Risk-free rate (US 10-year treasury bond rate)\n",
    "vol = 0.2  # Volatility"
   ]
  },
  {
   "cell_type": "code",
   "execution_count": 2,
   "metadata": {},
   "outputs": [],
   "source": [
    "# Importing the libraries needed\n",
    "import math\n",
    "from scipy.stats import norm"
   ]
  },
  {
   "cell_type": "markdown",
   "metadata": {},
   "source": [
    "## Calculation\n",
    "\n",
    "### Calculating $d_1$"
   ]
  },
  {
   "cell_type": "code",
   "execution_count": 3,
   "metadata": {},
   "outputs": [
    {
     "data": {
      "text/plain": [
       "0.7692626281060315"
      ]
     },
     "execution_count": 3,
     "metadata": {},
     "output_type": "execute_result"
    }
   ],
   "source": [
    "d1 = (math.log(S / X) + (r + ((vol ** 2) / 2)) * T) / (vol * math.sqrt(T))\n",
    "d1"
   ]
  },
  {
   "cell_type": "markdown",
   "metadata": {},
   "source": [
    "### Calculating $d_2$"
   ]
  },
  {
   "cell_type": "code",
   "execution_count": 6,
   "metadata": {},
   "outputs": [
    {
     "data": {
      "text/plain": [
       "0.627841271868722"
      ]
     },
     "execution_count": 6,
     "metadata": {},
     "output_type": "execute_result"
    }
   ],
   "source": [
    "d2 = d1 - (vol * math.sqrt(T))\n",
    "d2"
   ]
  },
  {
   "cell_type": "markdown",
   "metadata": {},
   "source": [
    "### Calculating the Call Option Price "
   ]
  },
  {
   "cell_type": "code",
   "execution_count": 5,
   "metadata": {},
   "outputs": [
    {
     "data": {
      "text/plain": [
       "4.759422392871532"
      ]
     },
     "execution_count": 5,
     "metadata": {},
     "output_type": "execute_result"
    }
   ],
   "source": [
    "C = S * norm.cdf(d1) - X * math.exp(-r * T) * norm.cdf(d2)\n",
    "C"
   ]
  },
  {
   "cell_type": "markdown",
   "metadata": {},
   "source": [
    "### Calculating the Put Option Price"
   ]
  },
  {
   "cell_type": "code",
   "execution_count": 7,
   "metadata": {},
   "outputs": [
    {
     "data": {
      "text/plain": [
       "0.8085993729000922"
      ]
     },
     "execution_count": 7,
     "metadata": {},
     "output_type": "execute_result"
    }
   ],
   "source": [
    "P = X * math.exp(-r * T) * norm.cdf(-d2) - S * norm.cdf(-d1) \n",
    "P"
   ]
  }
 ],
 "metadata": {
  "kernelspec": {
   "display_name": "academic",
   "language": "python",
   "name": "python3"
  },
  "language_info": {
   "codemirror_mode": {
    "name": "ipython",
    "version": 3
   },
   "file_extension": ".py",
   "mimetype": "text/x-python",
   "name": "python",
   "nbconvert_exporter": "python",
   "pygments_lexer": "ipython3",
   "version": "3.12.1"
  }
 },
 "nbformat": 4,
 "nbformat_minor": 2
}
